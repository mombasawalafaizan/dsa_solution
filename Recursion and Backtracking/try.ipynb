{
 "cells": [
  {
   "cell_type": "code",
   "execution_count": 3,
   "metadata": {},
   "outputs": [
    {
     "name": "stdout",
     "output_type": "stream",
     "text": [
      "-0b101\n"
     ]
    }
   ],
   "source": [
    "bin(4)\n",
    "print(bin(~4))"
   ]
  },
  {
   "cell_type": "code",
   "execution_count": 5,
   "metadata": {},
   "outputs": [
    {
     "name": "stdout",
     "output_type": "stream",
     "text": [
      "-0b101 0b111\n"
     ]
    }
   ],
   "source": [
    "print(bin(~4), bin(2**3-1))"
   ]
  },
  {
   "cell_type": "code",
   "execution_count": 14,
   "metadata": {},
   "outputs": [
    {
     "data": {
      "text/plain": [
       "11"
      ]
     },
     "execution_count": 14,
     "metadata": {},
     "output_type": "execute_result"
    }
   ],
   "source": [
    "import sys\n",
    "def helper(arr, idx, set1, set2, n_set1, min_diff):\n",
    "    n = len(arr)\n",
    "    if idx >= n:\n",
    "        if abs(set1, - set2) < min_diff[0]:\n",
    "            min_diff[0] = abs(set1 - set2)\n",
    "        return\n",
    "    if n_set1 < (n//2 + n%2):\n",
    "        helper(arr, idx+1, set1+arr[idx], set2, n_set1 + 1, min_diff)\n",
    "    if (n_set1 - idx) < (n//2 + n%2):\n",
    "        helper(arr, idx+1, set1, set2+arr[idx], n_set1, min_diff)\n",
    "\n",
    "def func(arr):\n",
    "    min_diff = [sys.maxsize]\n",
    "    helper(arr, 0, 0, 0, 0, min_diff)\n",
    "    return min_diff[0]\n",
    "\n",
    "func([3, 5, 23, 4])"
   ]
  },
  {
   "cell_type": "code",
   "execution_count": 43,
   "metadata": {},
   "outputs": [
    {
     "name": "stdout",
     "output_type": "stream",
     "text": [
      "13\n"
     ]
    }
   ],
   "source": [
    "import sys\n",
    "def isSafe(i, j, r, c, m):\n",
    "    return 0<= i < r and 0 <= j < c and m[i][j] != 0\n",
    "\n",
    "def SSRHelper(i, j, m, cur_dist, cur_min):\n",
    "    r, c = len(m), len(m[0])\n",
    "    pos = [[0, 1], [1, 0], [-1, 0], [0, -1]]\n",
    "    if j == c-1:\n",
    "        return cur_dist\n",
    "\n",
    "    # Optimization: No need to go further if we cannot reach the last col even in a straight path\n",
    "    if (c-1-j)+cur_dist >= cur_min:\n",
    "        return sys.maxsize\n",
    "    \n",
    "    prev_min = cur_min\n",
    "    for x, y in pos:\n",
    "        m[i][j] = 0\n",
    "        if isSafe(i + x, j + y, r, c, m):\n",
    "            res = SSRHelper(i+x, j+y, m, cur_dist+1, prev_min)\n",
    "            prev_min = min(prev_min, res)\n",
    "        m[i][j] = 1\n",
    "    return prev_min\n",
    "\n",
    "def shortestSafeRoute(matrix):\n",
    "    # Modify the matrix, so that 0,indicates cell that cannot be travelled\n",
    "    m = [row[:] for row in matrix]\n",
    "    rows = len(m)\n",
    "    cols = len(m[0])\n",
    "    for i in range(rows):\n",
    "        for j in range(cols):\n",
    "            if matrix[i][j] == 0:\n",
    "                if i > 0:\n",
    "                    m[i-1][j] = 0\n",
    "                if i < rows-1:\n",
    "                    m[i+1][j] = 0\n",
    "                if j > 0:\n",
    "                    m[i][j-1] = 0\n",
    "                if j < cols-1:\n",
    "                    m[i][j+1] = 0\n",
    "    min_travel = [sys.maxsize]\n",
    "    for start_pos in range(rows):\n",
    "        if m[start_pos][0] != 0:\n",
    "            cur_res = SSRHelper(start_pos, 0, m, 0, min_travel[0])\n",
    "            min_travel[0] = min(min_travel[0], cur_res)\n",
    "            if min_travel[0] == cols - 1: break\n",
    "    return min_travel[0]\n",
    "\n",
    "matrix = [\n",
    "    [ 1, 1, 1, 1, 1, 1, 1, 1, 1, 1 ],\n",
    "    [ 1, 0, 1, 1, 1, 1, 1, 1, 1, 1 ],\n",
    "    [ 1, 1, 1, 0, 1, 1, 1, 1, 1, 1 ],\n",
    "    [ 1, 1, 1, 1, 0, 1, 1, 1, 1, 1 ],\n",
    "    [ 1, 1, 1, 1, 1, 1, 1, 1, 1, 1 ],\n",
    "    [ 1, 1, 1, 1, 1, 0, 1, 1, 1, 1 ],\n",
    "    [ 1, 0, 1, 1, 1, 1, 1, 1, 0, 1 ],\n",
    "    [ 1, 1, 1, 1, 1, 1, 1, 1, 1, 1 ],\n",
    "    [ 1, 1, 1, 1, 1, 1, 1, 1, 1, 1 ],\n",
    "    [ 0, 1, 1, 1, 1, 0, 1, 1, 1, 1 ],\n",
    "    [ 1, 1, 1, 1, 1, 1, 1, 1, 1, 1 ],\n",
    "    [ 1, 1, 1, 0, 1, 1, 1, 1, 1, 1 ],\n",
    "]\n",
    "print(shortestSafeRoute(matrix))"
   ]
  },
  {
   "cell_type": "code",
   "execution_count": 27,
   "metadata": {},
   "outputs": [
    {
     "name": "stdout",
     "output_type": "stream",
     "text": [
      "[[1, 2], [3, 4]] [[6, 2], [3, 4]]\n"
     ]
    }
   ],
   "source": [
    "from copy import deepcopy\n",
    "a = [[1, 2], [3, 4]]\n",
    "b = deepcopy(a)\n",
    "b[0][0] = 6\n",
    "print(a, b)"
   ]
  }
 ],
 "metadata": {
  "interpreter": {
   "hash": "33dc6d49505b4536b6a128d9d7c879e1fa44477ad44947bbbe73093067fe6393"
  },
  "kernelspec": {
   "display_name": "Python 3.8.4 32-bit",
   "language": "python",
   "name": "python3"
  },
  "language_info": {
   "codemirror_mode": {
    "name": "ipython",
    "version": 3
   },
   "file_extension": ".py",
   "mimetype": "text/x-python",
   "name": "python",
   "nbconvert_exporter": "python",
   "pygments_lexer": "ipython3",
   "version": "3.9.7"
  },
  "orig_nbformat": 2
 },
 "nbformat": 4,
 "nbformat_minor": 2
}
