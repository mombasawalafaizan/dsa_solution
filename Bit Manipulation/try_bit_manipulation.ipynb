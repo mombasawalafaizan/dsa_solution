{
 "metadata": {
  "language_info": {
   "codemirror_mode": {
    "name": "ipython",
    "version": 3
   },
   "file_extension": ".py",
   "mimetype": "text/x-python",
   "name": "python",
   "nbconvert_exporter": "python",
   "pygments_lexer": "ipython3",
   "version": "3.8.5-final"
  },
  "orig_nbformat": 2,
  "kernelspec": {
   "name": "python38432bitd59ef553f3fe4c1e9686635296ebb405",
   "display_name": "Python 3.8.4 32-bit",
   "language": "python"
  }
 },
 "nbformat": 4,
 "nbformat_minor": 2,
 "cells": [
  {
   "cell_type": "code",
   "execution_count": 12,
   "metadata": {},
   "outputs": [
    {
     "output_type": "stream",
     "name": "stdout",
     "text": [
      "3 0b11\n0b1 & 0b1 = 0b1\n0b1 0b0\n0b1001 & 0b1 = 0b1\n0b1000 0b0\n0b11 & 0b1 = 0b1\n0b1011 0b0\n0b1000 & 0b1 = 0b0\n0b1011 0b1000\n0b10 & 0b1 = 0b0\n0b1011 0b1010\n0b1001 & 0b1 = 0b1\n0b10 0b1010\n0b1000 & 0b1 = 0b0\n0b10 0b10\n0b11 & 0b1 = 0b1\n0b1 0b10\n1 2\n"
     ]
    }
   ],
   "source": [
    "arr = [1, 9, 3, 8, 2, 9, 8, 3]\n",
    "ans = 0\n",
    "for i in arr:\n",
    "    ans = ans ^ i\n",
    "print(ans, bin(ans))\n",
    "ans = ans & (-ans)\n",
    "sum1 = sum2 = 0\n",
    "for i in range(len(a)):\n",
    "    if (arr[i] & ans) > 0:\n",
    "        sum1 = sum1 ^ arr[i]\n",
    "    else:\n",
    "        sum2 = sum2 ^ arr[i]\n",
    "    print(bin(arr[i]),'&', bin(ans),'=',bin(arr[i]&ans))\n",
    "    print(bin(sum1), bin(sum2))\n",
    "print(sum1, sum2)"
   ]
  },
  {
   "cell_type": "code",
   "execution_count": 23,
   "metadata": {},
   "outputs": [],
   "source": [
    "def copySetBitsInRange(x, y, l, r):\n",
    "    if l<1 or r>32 or l>r:\n",
    "        return \n",
    "    y_dup = y\n",
    "    y_dup >>= (l-1)\n",
    "    # print(bin(y_dup))\n",
    "    temp = 2**(r-l+1)-1\n",
    "    # print(bin(temp))\n",
    "    temp <<= (l-1)\n",
    "    # print(bin(temp)) \n",
    "    return (temp & y) | x"
   ]
  },
  {
   "cell_type": "code",
   "execution_count": 24,
   "metadata": {},
   "outputs": [
    {
     "output_type": "execute_result",
     "data": {
      "text/plain": [
       "11"
      ]
     },
     "metadata": {},
     "execution_count": 24
    }
   ],
   "source": [
    "copySetBitsInRange(8, 7, 1, 2)"
   ]
  },
  {
   "cell_type": "code",
   "execution_count": 38,
   "metadata": {},
   "outputs": [],
   "source": [
    "def divide(dividend, divisor): \n",
    "\t\n",
    "    # Calculate sign of divisor \n",
    "    # i.e., sign will be negative \n",
    "    # either one of them is negative \n",
    "    # only iff otherwise it will be \n",
    "    # positive \n",
    "\n",
    "    sign = (-1 if((dividend < 0) ^ (divisor < 0)) else 1) \n",
    "\n",
    "    # remove sign of operands \n",
    "    dividend = abs(dividend) \n",
    "    divisor = abs(divisor) \n",
    "\n",
    "    # Initialize \n",
    "    # the quotient \n",
    "    quotient = 0 \n",
    "    temp = 0 \n",
    "    print('Dividend: ', bin(dividend))\n",
    "    print('Divisor: ', bin(divisor))\n",
    "    # test down from the highest \n",
    "    # bit and accumulate the \n",
    "    # tentative value for valid bit \n",
    "    for i in range(31, -1, -1): \n",
    "        print((bin(temp), bin(divisor<<i).replace('0b', '0'*(31-i)), bin(quotient)))\n",
    "        if (temp + (divisor << i) <= dividend): \n",
    "            temp += divisor << i \n",
    "            quotient |= 1 << i               \n",
    "\n",
    "    return sign * quotient "
   ]
  },
  {
   "cell_type": "code",
   "execution_count": 46,
   "metadata": {},
   "outputs": [
    {
     "output_type": "stream",
     "name": "stdout",
     "text": [
      "Dividend:  0b1100000\nDivisor:  0b110\n('0b0', '1100000000000000000000000000000000', '0b0')\n('0b0', '0110000000000000000000000000000000', '0b0')\n('0b0', '0011000000000000000000000000000000', '0b0')\n('0b0', '0001100000000000000000000000000000', '0b0')\n('0b0', '0000110000000000000000000000000000', '0b0')\n('0b0', '0000011000000000000000000000000000', '0b0')\n('0b0', '0000001100000000000000000000000000', '0b0')\n('0b0', '0000000110000000000000000000000000', '0b0')\n('0b0', '0000000011000000000000000000000000', '0b0')\n('0b0', '0000000001100000000000000000000000', '0b0')\n('0b0', '0000000000110000000000000000000000', '0b0')\n('0b0', '0000000000011000000000000000000000', '0b0')\n('0b0', '0000000000001100000000000000000000', '0b0')\n('0b0', '0000000000000110000000000000000000', '0b0')\n('0b0', '0000000000000011000000000000000000', '0b0')\n('0b0', '0000000000000001100000000000000000', '0b0')\n('0b0', '0000000000000000110000000000000000', '0b0')\n('0b0', '0000000000000000011000000000000000', '0b0')\n('0b0', '0000000000000000001100000000000000', '0b0')\n('0b0', '0000000000000000000110000000000000', '0b0')\n('0b0', '0000000000000000000011000000000000', '0b0')\n('0b0', '0000000000000000000001100000000000', '0b0')\n('0b0', '0000000000000000000000110000000000', '0b0')\n('0b0', '0000000000000000000000011000000000', '0b0')\n('0b0', '0000000000000000000000001100000000', '0b0')\n('0b0', '0000000000000000000000000110000000', '0b0')\n('0b0', '0000000000000000000000000011000000', '0b0')\n('0b0', '0000000000000000000000000001100000', '0b0')\n('0b1100000', '0000000000000000000000000000110000', '0b10000')\n('0b1100000', '0000000000000000000000000000011000', '0b10000')\n('0b1100000', '0000000000000000000000000000001100', '0b10000')\n('0b1100000', '0000000000000000000000000000000110', '0b10000')\n16\n"
     ]
    }
   ],
   "source": [
    "print(divide(96, 6))"
   ]
  },
  {
   "cell_type": "code",
   "execution_count": 44,
   "metadata": {},
   "outputs": [
    {
     "output_type": "error",
     "ename": "AttributeError",
     "evalue": "type object 'str' has no attribute 'rela'",
     "traceback": [
      "\u001b[1;31m---------------------------------------------------------------------------\u001b[0m",
      "\u001b[1;31mAttributeError\u001b[0m                            Traceback (most recent call last)",
      "\u001b[1;32m<ipython-input-44-bbd97ebe4b09>\u001b[0m in \u001b[0;36m<module>\u001b[1;34m\u001b[0m\n\u001b[1;32m----> 1\u001b[1;33m \u001b[0mhelp\u001b[0m\u001b[1;33m(\u001b[0m\u001b[0mstr\u001b[0m\u001b[1;33m.\u001b[0m\u001b[0mrela\u001b[0m\u001b[1;33m)\u001b[0m\u001b[1;33m\u001b[0m\u001b[1;33m\u001b[0m\u001b[0m\n\u001b[0m",
      "\u001b[1;31mAttributeError\u001b[0m: type object 'str' has no attribute 'rela'"
     ]
    }
   ],
   "source": [
    "help(str.rela)"
   ]
  },
  {
   "cell_type": "code",
   "execution_count": null,
   "metadata": {},
   "outputs": [],
   "source": [
    "def square(num):\n",
    " \n",
    "    # Handle negative input\n",
    "    if (num < 0):\n",
    "        num = -num\n",
    "\n",
    "    # Initialize result\n",
    "    result, times = 0, num\n",
    "\n",
    "    while (times > 0):\n",
    "        possibleShifts, currTimes = 0, 1\n",
    "\n",
    "        while ((currTimes << 1) <= times):\n",
    "            currTimes = currTimes << 1\n",
    "            possibleShifts += 1\n",
    "        print(possibleShifts)\n",
    "        result = result + (num << possibleShifts)\n",
    "        times = times - currTimes\n",
    "\n",
    "    return result"
   ]
  }
 ]
}