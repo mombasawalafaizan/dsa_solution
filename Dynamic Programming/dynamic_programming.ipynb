{
 "cells": [
  {
   "cell_type": "code",
   "execution_count": 23,
   "metadata": {},
   "outputs": [],
   "source": [
    "def findUnsortedSubarray(arr) -> int:\n",
    "    n = len(arr)\n",
    "    if n<=1: return 0\n",
    "    max_len = n\n",
    "    start = 0\n",
    "    i = 0\n",
    "    while i < n-1:\n",
    "        if arr[i] < arr[i+1]:\n",
    "            i += 1\n",
    "        else:\n",
    "            break\n",
    "    if i==n-1:\n",
    "        return 0\n",
    "    j = n-1\n",
    "    while j > 0:\n",
    "        if arr[j] > arr[j-1]:\n",
    "            j -= 1\n",
    "        else:\n",
    "            break\n",
    "    mini = arr[i+1]\n",
    "    \n",
    "    mini, maxi = min(arr[i+1:j]), max(arr[i+1:j])\n",
    "    while i > 0 and mini < arr[i-1]:\n",
    "        i -= 1\n",
    "    while j < n-1 and maxi > arr[j+1]:\n",
    "        j += 1\n",
    "    return (j-i+1)"
   ]
  },
  {
   "cell_type": "code",
   "execution_count": 51,
   "metadata": {},
   "outputs": [
    {
     "name": "stdout",
     "output_type": "stream",
     "text": [
      "0\n",
      "1\n",
      "2\n",
      "2\n",
      "4\n",
      "5\n",
      "6\n",
      "7\n",
      "7\n"
     ]
    }
   ],
   "source": [
    "def binarySearch(arr, target):\n",
    "    l = 0\n",
    "    h = len(arr)-1\n",
    "    while l < h:\n",
    "        m = l + (h-l)//2\n",
    "        # if arr[m] == target: return True\n",
    "        if arr[m] < target:\n",
    "            l = m + 1\n",
    "        else:\n",
    "            h = m\n",
    "    # return l if (arr[l] == target) else -1\n",
    "    return l\n",
    "\n",
    "arr = [22, 33, 44, 44, 75, 96, 126, 137, 137]\n",
    "for i in range(len(arr)):\n",
    "    # inp = int(input())\n",
    "    print(binarySearch(arr, arr[i]))"
   ]
  },
  {
   "cell_type": "code",
   "execution_count": 57,
   "metadata": {},
   "outputs": [
    {
     "name": "stdout",
     "output_type": "stream",
     "text": [
      "5\n",
      "5\n",
      "7\n",
      "0\n",
      "1\n",
      "5\n",
      "4\n"
     ]
    }
   ],
   "source": [
    "def findGreaterElement(arr, target):\n",
    "    l = 0\n",
    "    h = len(arr)-1\n",
    "    while l <= h:\n",
    "        m = l + (h-l)//2\n",
    "        if arr[m] <= target:\n",
    "            l = m + 1\n",
    "        else:\n",
    "            h = m-1\n",
    "    return l\n",
    "\n",
    "arr = [1, 12, 14, 14, 15, 49, 49]\n",
    "for i in range(len(arr)):\n",
    "    inp = int(input())\n",
    "    print(findGreaterElement(arr, inp))"
   ]
  },
  {
   "cell_type": "code",
   "execution_count": 42,
   "metadata": {},
   "outputs": [
    {
     "data": {
      "text/plain": [
       "True"
      ]
     },
     "execution_count": 42,
     "metadata": {},
     "output_type": "execute_result"
    }
   ],
   "source": [
    "binarySearch(arr, 9)"
   ]
  },
  {
   "cell_type": "code",
   "execution_count": 44,
   "metadata": {},
   "outputs": [
    {
     "name": "stdout",
     "output_type": "stream",
     "text": [
      "A->B->C->A->D->E->A->F->G->A->_->_->A->_->_->A\n"
     ]
    }
   ],
   "source": [
    "from heapq import heapify, heappop, heappush\n",
    "\n",
    "def leastInterval(tasks, n):\n",
    "    freq = [[0, chr(i+65)] for i in range(26)]\n",
    "    for i in range(len(tasks)):\n",
    "        freq[ord(tasks[i])-65][0] -= 1\n",
    "    heapify(freq)\n",
    "    scheduled = ''\n",
    "    while freq and freq[0][0] != 0:\n",
    "        k = n + 1\n",
    "        temp1 = []\n",
    "        while k > 0 and freq and freq[0][0] != 0:\n",
    "            temp = heappop(freq)\n",
    "            scheduled += temp[1] + \"->\"\n",
    "            temp[0] += 1\n",
    "            temp1.append(temp)\n",
    "            k -= 1\n",
    "        for i in range(len(temp1)):\n",
    "            if temp1[i][0] < 0: heappush(freq, temp1[i])\n",
    "        if freq[0][0] == 0:\n",
    "            break\n",
    "        while k > 0:\n",
    "            scheduled += '_->'\n",
    "            k -= 1\n",
    "    print(scheduled[:-2])\n",
    "tasks = [\"A\",\"A\",\"A\",\"A\",\"A\",\"A\",\"B\",\"C\",\"D\",\"E\",\"F\",\"G\"]\n",
    "leastInterval(tasks, 2)"
   ]
  },
  {
   "cell_type": "code",
   "execution_count": 10,
   "metadata": {},
   "outputs": [],
   "source": [
    "def reductionOperations(arr=[1, 1, 1]) -> int:\n",
    "    n = len(arr)\n",
    "    arr.sort()\n",
    "    i = 0\n",
    "    while i < n and arr[i] == arr[0]:\n",
    "        i += 1\n",
    "    if i == n: return 0\n",
    "    k = 1\n",
    "    ans = 0\n",
    "    while i < n:\n",
    "        ans += k\n",
    "        i += 1\n",
    "        while i < n and arr[i]==arr[i-1]:\n",
    "            ans += k\n",
    "            i += 1\n",
    "        k += 1\n",
    "    return ans"
   ]
  },
  {
   "cell_type": "code",
   "execution_count": 12,
   "metadata": {},
   "outputs": [
    {
     "data": {
      "text/plain": [
       "4"
      ]
     },
     "execution_count": 12,
     "metadata": {},
     "output_type": "execute_result"
    }
   ],
   "source": [
    "reductionOperations([1,1,2,2,3])"
   ]
  },
  {
   "cell_type": "code",
   "execution_count": 37,
   "metadata": {},
   "outputs": [
    {
     "name": "stdout",
     "output_type": "stream",
     "text": [
      "10010011010\n",
      "4 2 2 3\n",
      "00100110101\n",
      "2 4 4 1\n",
      "01001101010\n",
      "5 1 1 4\n",
      "10011010100\n",
      "2 4 4 1\n",
      "00110101001\n",
      "4 2 2 3\n",
      "01101010010\n",
      "3 3 3 2\n",
      "11010100100\n",
      "4 2 2 3\n",
      "10101001001\n",
      "2 4 4 1\n",
      "01010010011\n",
      "4 2 2 3\n",
      "10100100110\n",
      "3 3 3 2\n",
      "01001001101\n",
      "3 3 3 2\n",
      "A whole new world:\n",
      "3 3 3 2\n",
      "10010011010\n",
      "4 2 2 3\n",
      "00100110101\n",
      "2 4 4 1\n",
      "01001101010\n",
      "5 1 1 4\n",
      "10011010100\n",
      "2 4 4 1\n",
      "00110101001\n",
      "4 2 2 3\n",
      "01101010010\n",
      "3 3 3 2\n",
      "11010100100\n",
      "4 2 2 3\n",
      "10101001001\n",
      "2 4 4 1\n",
      "01010010011\n",
      "4 2 2 3\n",
      "10100100110\n",
      "3 3 3 2\n"
     ]
    }
   ],
   "source": [
    "s='01001001101'\n",
    "for j in range(len(s)):\n",
    "    even_0s = 0\n",
    "    even_1s = 0\n",
    "    odd_0s = 0\n",
    "    odd_1s = 0\n",
    "    s = s[1:] + s[0]\n",
    "    for i in range(len(s)):\n",
    "        if i % 2 == 0:\n",
    "            if s[i] == '0':\n",
    "                even_0s += 1\n",
    "            else:\n",
    "                even_1s += 1\n",
    "        else:\n",
    "            if s[i] == '0':\n",
    "                odd_0s += 1\n",
    "            else:\n",
    "                odd_1s += 1\n",
    "    print(s)\n",
    "    print(even_0s, odd_0s, even_1s, odd_1s)\n",
    "\n",
    "print('A whole new world:')\n",
    "even_0s = 0\n",
    "even_1s = 0\n",
    "odd_0s = 0\n",
    "odd_1s = 0\n",
    "for i in range(len(s)):\n",
    "    if i % 2 == 0:\n",
    "        if s[i] == '0':\n",
    "            even_0s += 1\n",
    "        else:\n",
    "            even_1s += 1\n",
    "    else:\n",
    "        if s[i] == '0':\n",
    "            odd_0s += 1\n",
    "        else:\n",
    "            odd_1s += 1\n",
    "print(even_0s, odd_0s, even_1s, odd_1s)\n",
    "for i in range(len(s)-1):\n",
    "    print(s[i+1:]+s[:i+1])\n",
    "    if s[i] == '1':\n",
    "        even_0s, odd_0s = odd_0s, even_0s\n",
    "        temp = even_1s\n",
    "        even_1s = odd_1s + 1\n",
    "        odd_1s = temp - 1\n",
    "    else:\n",
    "        even_1s, odd_1s = odd_1s, even_1s\n",
    "        temp = even_0s\n",
    "        even_0s = odd_0s + 1\n",
    "        odd_0s = temp - 1\n",
    "    print(even_0s, odd_0s, even_1s, odd_1s)"
   ]
  },
  {
   "cell_type": "code",
   "execution_count": 36,
   "metadata": {},
   "outputs": [
    {
     "data": {
      "text/plain": [
       "11"
      ]
     },
     "execution_count": 36,
     "metadata": {},
     "output_type": "execute_result"
    }
   ],
   "source": [
    "len(\"01001001101\")"
   ]
  },
  {
   "cell_type": "code",
   "execution_count": 8,
   "metadata": {},
   "outputs": [],
   "source": [
    "def findDisappearedNumbers(arr):\n",
    "    \"\"\"\n",
    "    :type nums: List[int]\n",
    "    :rtype: List[int]\n",
    "    \"\"\"\n",
    "    ans = []\n",
    "    i = 0\n",
    "    while i < len(arr):\n",
    "        temp = arr[i]\n",
    "        if (temp == (i+1)) or (temp == arr[temp-1]):\n",
    "            i += 1\n",
    "        else:\n",
    "            arr[i], arr[temp-1] = arr[temp-1], arr[i]\n",
    "        print(i, arr)\n",
    "    for i in range(len(arr)):\n",
    "        if arr[i] != (i+1):\n",
    "            ans.append(i+1)\n",
    "    return ans"
   ]
  },
  {
   "cell_type": "code",
   "execution_count": 9,
   "metadata": {
    "tags": []
   },
   "outputs": [
    {
     "name": "stdout",
     "output_type": "stream",
     "text": [
      "0 [7, 3, 2, 4, 8, 2, 3, 1]\n",
      "0 [3, 3, 2, 4, 8, 2, 7, 1]\n",
      "0 [2, 3, 3, 4, 8, 2, 7, 1]\n",
      "0 [3, 2, 3, 4, 8, 2, 7, 1]\n",
      "1 [3, 2, 3, 4, 8, 2, 7, 1]\n",
      "2 [3, 2, 3, 4, 8, 2, 7, 1]\n",
      "3 [3, 2, 3, 4, 8, 2, 7, 1]\n",
      "4 [3, 2, 3, 4, 8, 2, 7, 1]\n",
      "4 [3, 2, 3, 4, 1, 2, 7, 8]\n",
      "4 [1, 2, 3, 4, 3, 2, 7, 8]\n",
      "5 [1, 2, 3, 4, 3, 2, 7, 8]\n",
      "6 [1, 2, 3, 4, 3, 2, 7, 8]\n",
      "7 [1, 2, 3, 4, 3, 2, 7, 8]\n",
      "8 [1, 2, 3, 4, 3, 2, 7, 8]\n"
     ]
    },
    {
     "data": {
      "text/plain": [
       "[5, 6]"
      ]
     },
     "execution_count": 9,
     "metadata": {},
     "output_type": "execute_result"
    }
   ],
   "source": [
    "arr = [4,3,2,7,8,2,3,1]\n",
    "findDisappearedNumbers(arr)"
   ]
  },
  {
   "cell_type": "code",
   "execution_count": 24,
   "metadata": {},
   "outputs": [],
   "source": [
    "from collections import deque\n",
    "def decodeString(s):\n",
    "    stack = deque()\n",
    "    ans = ''\n",
    "    i = 0\n",
    "    while i < len(s):\n",
    "        # print(stack, i)\n",
    "        if s[i].isdigit():\n",
    "            k = int(s[i])\n",
    "            j = i + 1\n",
    "            while s[j].isdigit():\n",
    "                k = k*10 + int(s[j])\n",
    "                j += 1              \n",
    "            stack.append([k, ''])\n",
    "            i = j  \n",
    "        elif s[i] == ']':\n",
    "            k, temp = stack.pop()\n",
    "            if not stack:\n",
    "                ans += (k*temp)\n",
    "            else:\n",
    "                stack[-1][1] += (k*temp)\n",
    "        else:\n",
    "            if not stack:\n",
    "                ans += s[i]\n",
    "            else:\n",
    "                stack[-1][1] += s[i]\n",
    "        i += 1\n",
    "    return ans\n"
   ]
  },
  {
   "cell_type": "code",
   "execution_count": 25,
   "metadata": {},
   "outputs": [
    {
     "name": "stdout",
     "output_type": "stream",
     "text": [
      "deque([]) 0\n",
      "deque([[3, '']]) 2\n",
      "deque([[3, 'a']]) 3\n",
      "deque([]) 4\n",
      "deque([[2, '']]) 6\n",
      "deque([[2, 'b']]) 7\n",
      "deque([[2, 'bc']]) 8\n",
      "aaabcbc\n"
     ]
    }
   ],
   "source": [
    "print(decodeString(\"3[a]2[bc]\"))"
   ]
  },
  {
   "cell_type": "code",
   "execution_count": 12,
   "metadata": {},
   "outputs": [
    {
     "data": {
      "text/plain": [
       "'aasfsdaasfsdaasfsdaasfsd'"
      ]
     },
     "execution_count": 12,
     "metadata": {},
     "output_type": "execute_result"
    }
   ],
   "source": [
    "4 * 'aasfsd'"
   ]
  },
  {
   "cell_type": "code",
   "execution_count": 5,
   "metadata": {},
   "outputs": [],
   "source": [
    "def comboDigits(keypad, digits, combinations, cur_digit, cur_combo):\n",
    "    if cur_digit == len(digits):\n",
    "        combinations.append(cur_combo)\n",
    "        return\n",
    "    for i in keypad[int(digits[cur_digit])]:\n",
    "        comboDigits(keypad, digits, combinations, cur_digit+1, cur_combo+i)\n",
    "    \n",
    "def digits(s):\n",
    "    if s=='': return []\n",
    "    keypad = [[], [], [\"a\", \"b\", \"c\"], [\"d\", \"e\", \"f\"], [\"g\", \"h\", \"i\"], \n",
    "                [\"j\", \"k\", \"l\"], [\"m\", \"n\", \"o\"], [\"p\", \"q\", \"r\", \"s\"], [\"t\", \"u\", \"v\"], [\"w\", \"x\", \"y\", \"z\"]]\n",
    "    combinations = []\n",
    "    comboDigits(keypad, s, combinations, 0, '')\n",
    "    print(combinations)\n"
   ]
  },
  {
   "cell_type": "code",
   "execution_count": 6,
   "metadata": {},
   "outputs": [
    {
     "name": "stdout",
     "output_type": "stream",
     "text": [
      "['ad', 'ae', 'af', 'bd', 'be', 'bf', 'cd', 'ce', 'cf']\n"
     ]
    }
   ],
   "source": [
    "digits('23')"
   ]
  },
  {
   "cell_type": "code",
   "execution_count": 7,
   "metadata": {},
   "outputs": [
    {
     "name": "stdout",
     "output_type": "stream",
     "text": [
      "aloo   432 le\n"
     ]
    }
   ],
   "source": [
    "print('aloo {0:5d} le'.format(432))"
   ]
  },
  {
   "cell_type": "code",
   "execution_count": null,
   "metadata": {},
   "outputs": [],
   "source": []
  }
 ],
 "metadata": {
  "interpreter": {
   "hash": "2c5750d0edae1cb84a7b95dffb04de604124ebf24076ff413dcf1a0be8ee9804"
  },
  "kernelspec": {
   "display_name": "Python 3.9.2 64-bit",
   "name": "python3"
  },
  "language_info": {
   "codemirror_mode": {
    "name": "ipython",
    "version": 3
   },
   "file_extension": ".py",
   "mimetype": "text/x-python",
   "name": "python",
   "nbconvert_exporter": "python",
   "pygments_lexer": "ipython3",
   "version": "3.9.2"
  },
  "metadata": {
   "interpreter": {
    "hash": "2c5750d0edae1cb84a7b95dffb04de604124ebf24076ff413dcf1a0be8ee9804"
   }
  },
  "orig_nbformat": 2
 },
 "nbformat": 4,
 "nbformat_minor": 2
}
