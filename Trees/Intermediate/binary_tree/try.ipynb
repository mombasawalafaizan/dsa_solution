{
 "metadata": {
  "language_info": {
   "codemirror_mode": {
    "name": "ipython",
    "version": 3
   },
   "file_extension": ".py",
   "mimetype": "text/x-python",
   "name": "python",
   "nbconvert_exporter": "python",
   "pygments_lexer": "ipython3",
   "version": "3.8.5-final"
  },
  "orig_nbformat": 2,
  "kernelspec": {
   "name": "python38432bitd59ef553f3fe4c1e9686635296ebb405",
   "display_name": "Python 3.8.4 32-bit"
  }
 },
 "nbformat": 4,
 "nbformat_minor": 2,
 "cells": [
  {
   "cell_type": "code",
   "execution_count": 1,
   "metadata": {
    "tags": []
   },
   "outputs": [
    {
     "output_type": "stream",
     "name": "stdout",
     "text": "hello\n"
    }
   ],
   "source": [
    "print('hello')"
   ]
  },
  {
   "cell_type": "code",
   "execution_count": 2,
   "metadata": {},
   "outputs": [],
   "source": [
    "with open('1_tree_views.py') as f1:\n",
    "    i=1\n",
    "    with open('zuzu.txt', 'w') as f2:\n",
    "        for line in f1.readlines():\n",
    "            if i%4==0:\n",
    "                f2.write(line)\n",
    "            i += 1"
   ]
  },
  {
   "cell_type": "code",
   "execution_count": 5,
   "metadata": {
    "tags": []
   },
   "outputs": [
    {
     "output_type": "stream",
     "name": "stdout",
     "text": "0\ndefaultdict(&lt;function &lt;lambda&gt; at 0x05E09A48&gt;, {1: 0})\n"
    }
   ],
   "source": [
    "from collections import defaultdict\n",
    "k = defaultdict(lambda: 0)\n",
    "print(k[1])\n",
    "print(k)"
   ]
  },
  {
   "cell_type": "code",
   "execution_count": 21,
   "metadata": {},
   "outputs": [
    {
     "output_type": "error",
     "ename": "IndentationError",
     "evalue": "expected an indented block (&lt;ipython-input-21-eaa82b0b9a01&gt;, line 11)",
     "traceback": [
      "\u001b[1;36m  File \u001b[1;32m&quot;&lt;ipython-input-21-eaa82b0b9a01&gt;&quot;\u001b[1;36m, line \u001b[1;32m11\u001b[0m\n\u001b[1;33m    print(arr[start+1:i+1])\u001b[0m\n\u001b[1;37m    ^\u001b[0m\n\u001b[1;31mIndentationError\u001b[0m\u001b[1;31m:\u001b[0m expected an indented block\n"
     ]
    }
   ],
   "source": [
    "def findSubarraySum(arr, n, k):\n",
    "    prevSum = defaultdict(list)\n",
    "    ans = 0\n",
    "    currsum = 0\n",
    "    for i in range(n):\n",
    "        currsum += arr[i]\n",
    "        if currsum==k:\n",
    "            print(arr[:i+1])\n",
    "        if currsum-k in prevSum:\n",
    "            for start in prevSum[currsum-k]:\n",
    "                print(arr[start+1:i+1])\n",
    "        print(prevSum)\n",
    "        prevSum[currsum].append(i)\n",
    "    return ans"
   ]
  },
  {
   "cell_type": "code",
   "execution_count": 22,
   "metadata": {
    "tags": []
   },
   "outputs": [
    {
     "output_type": "stream",
     "name": "stdout",
     "text": "Current sum: 1 Current sum  - sum: -4\ndefaultdict(&lt;function findSubarraySum.&lt;locals&gt;.&lt;lambda&gt; at 0x06C81898&gt;, {})\nans 0\nCurrent sum: 3 Current sum  - sum: -2\ndefaultdict(&lt;function findSubarraySum.&lt;locals&gt;.&lt;lambda&gt; at 0x06C81898&gt;, {1: 1})\nans 0\nCurrent sum: 9 Current sum  - sum: 4\ndefaultdict(&lt;function findSubarraySum.&lt;locals&gt;.&lt;lambda&gt; at 0x06C81898&gt;, {1: 1, 3: 1})\nans 0\nCurrent sum: 6 Current sum  - sum: 1\ndefaultdict(&lt;function findSubarraySum.&lt;locals&gt;.&lt;lambda&gt; at 0x06C81898&gt;, {1: 1, 3: 1, 9: 1})\nans 1\nCurrent sum: 11 Current sum  - sum: 6\ndefaultdict(&lt;function findSubarraySum.&lt;locals&gt;.&lt;lambda&gt; at 0x06C81898&gt;, {1: 1, 3: 1, 9: 1, 6: 1})\nans 2\nCurrent sum: 9 Current sum  - sum: 4\ndefaultdict(&lt;function findSubarraySum.&lt;locals&gt;.&lt;lambda&gt; at 0x06C81898&gt;, {1: 1, 3: 1, 9: 1, 6: 1, 11: 1})\nans 2\nCurrent sum: 5 Current sum  - sum: 0\ndefaultdict(&lt;function findSubarraySum.&lt;locals&gt;.&lt;lambda&gt; at 0x06C81898&gt;, {1: 1, 3: 1, 9: 2, 6: 1, 11: 1})\nans 3\n3\n"
    }
   ],
   "source": [
    "print(findSubarraySum([1, 2, 6, -3, 5, -2, -4], 7, 5))"
   ]
  },
  {
   "cell_type": "code",
   "execution_count": null,
   "metadata": {},
   "outputs": [],
   "source": []
  }
 ]
}