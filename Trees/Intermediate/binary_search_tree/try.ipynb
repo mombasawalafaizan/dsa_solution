{
 "metadata": {
  "language_info": {
   "codemirror_mode": {
    "name": "ipython",
    "version": 3
   },
   "file_extension": ".py",
   "mimetype": "text/x-python",
   "name": "python",
   "nbconvert_exporter": "python",
   "pygments_lexer": "ipython3",
   "version": "3.8.5-final"
  },
  "orig_nbformat": 2,
  "kernelspec": {
   "name": "python38432bitd59ef553f3fe4c1e9686635296ebb405",
   "display_name": "Python 3.8.4 32-bit"
  }
 },
 "nbformat": 4,
 "nbformat_minor": 2,
 "cells": [
  {
   "cell_type": "code",
   "execution_count": 8,
   "metadata": {},
   "outputs": [],
   "source": [
    "a = [90, 62, 37, 46, 70, 26, 27, 91, 14, 58]\n",
    "b = a[:]"
   ]
  },
  {
   "cell_type": "code",
   "execution_count": 9,
   "metadata": {},
   "outputs": [],
   "source": [
    "from collections import deque"
   ]
  },
  {
   "cell_type": "code",
   "execution_count": 13,
   "metadata": {},
   "outputs": [],
   "source": [
    "def getNGE(arr):\n",
    "    nge = [-1] * len(arr)\n",
    "    stack = deque()\n",
    "    stack.append(0)\n",
    "    idx = 0\n",
    "    next_g = 0\n",
    "    for i in range(1, len(arr)):\n",
    "        next_g = arr[i]\n",
    "        if stack:\n",
    "            idx = stack.pop()\n",
    "            while arr[idx] < next_g:\n",
    "                nge[idx] = next_g\n",
    "                if not stack:\n",
    "                    break\n",
    "                idx = stack.pop()\n",
    "\n",
    "            if arr[idx] > next_g:\n",
    "                stack.append(idx)\n",
    "        stack.append(i)\n",
    "    return nge"
   ]
  },
  {
   "cell_type": "code",
   "execution_count": 14,
   "metadata": {},
   "outputs": [
    {
     "output_type": "stream",
     "name": "stdout",
     "text": [
      "[90, 62, 37, 46, 70, 26, 27, 91, 14, 58]\n[91, 70, 46, 70, 91, 27, 91, -1, 58, -1]\n"
     ]
    }
   ],
   "source": [
    "print(a)\n",
    "print(getNGE(a))"
   ]
  },
  {
   "cell_type": "code",
   "execution_count": null,
   "metadata": {},
   "outputs": [],
   "source": []
  }
 ]
}