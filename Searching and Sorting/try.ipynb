{
 "metadata": {
  "language_info": {
   "codemirror_mode": {
    "name": "ipython",
    "version": 3
   },
   "file_extension": ".py",
   "mimetype": "text/x-python",
   "name": "python",
   "nbconvert_exporter": "python",
   "pygments_lexer": "ipython3",
   "version": "3.8.5-final"
  },
  "orig_nbformat": 2,
  "kernelspec": {
   "name": "python38432bitd59ef553f3fe4c1e9686635296ebb405",
   "display_name": "Python 3.8.4 32-bit"
  }
 },
 "nbformat": 4,
 "nbformat_minor": 2,
 "cells": [
  {
   "cell_type": "code",
   "execution_count": 2,
   "metadata": {},
   "outputs": [],
   "source": [
    "a = [[1, 2, 3], [4, 5, 6], [7, 8, 9]]"
   ]
  },
  {
   "cell_type": "code",
   "execution_count": 34,
   "metadata": {},
   "outputs": [],
   "source": [
    "def findTwoElement(arr, n): \n",
    "    two_timer = -1\n",
    "    for i in range(n):\n",
    "        cur_el = arr[i]\n",
    "        while cur_el != (i+1):\n",
    "            if arr[cur_el-1] == cur_el:\n",
    "                two_timer = cur_el\n",
    "                break\n",
    "            arr[i], arr[cur_el-1] = arr[cur_el-1], arr[i]\n",
    "            cur_el = arr[i]\n",
    "            for j in range(n):\n",
    "                print('{:2d}'.format(j), end = ' ')\n",
    "            print()\n",
    "            for j in arr:\n",
    "                print('{:2d}'.format(j), end = ' ')\n",
    "            print('\\n')\n",
    "    for i in range(n):\n",
    "        if arr[i] != i+1:\n",
    "            return [two_timer, i+1]\n",
    "    return [0, 0]"
   ]
  },
  {
   "cell_type": "code",
   "execution_count": 35,
   "metadata": {},
   "outputs": [
    {
     "output_type": "stream",
     "name": "stdout",
     "text": [
      " 0  1  2  3  4  5  6  7  8  9 10 11 12 13 14 15 16 17 18 19 20 21 22 23 24 25 26 27 28 29 30 31 32 33 \n",
      "22 24  3  7 10 34 27 29 13  2 11 23  9 26 32 12  1 14  4  8  6 19 17 15 30 28 20 31  5 16 25 18  9 33 \n",
      "\n",
      " 0  1  2  3  4  5  6  7  8  9 10 11 12 13 14 15 16 17 18 19 20 21 22 23 24 25 26 27 28 29 30 31 32 33 \n",
      "19 24  3  7 10 34 27 29 13  2 11 23  9 26 32 12  1 14  4  8  6 22 17 15 30 28 20 31  5 16 25 18  9 33 \n",
      "\n",
      " 0  1  2  3  4  5  6  7  8  9 10 11 12 13 14 15 16 17 18 19 20 21 22 23 24 25 26 27 28 29 30 31 32 33 \n",
      " 4 24  3  7 10 34 27 29 13  2 11 23  9 26 32 12  1 14 19  8  6 22 17 15 30 28 20 31  5 16 25 18  9 33 \n",
      "\n",
      " 0  1  2  3  4  5  6  7  8  9 10 11 12 13 14 15 16 17 18 19 20 21 22 23 24 25 26 27 28 29 30 31 32 33 \n",
      " 7 24  3  4 10 34 27 29 13  2 11 23  9 26 32 12  1 14 19  8  6 22 17 15 30 28 20 31  5 16 25 18  9 33 \n",
      "\n",
      " 0  1  2  3  4  5  6  7  8  9 10 11 12 13 14 15 16 17 18 19 20 21 22 23 24 25 26 27 28 29 30 31 32 33 \n",
      "27 24  3  4 10 34  7 29 13  2 11 23  9 26 32 12  1 14 19  8  6 22 17 15 30 28 20 31  5 16 25 18  9 33 \n",
      "\n",
      " 0  1  2  3  4  5  6  7  8  9 10 11 12 13 14 15 16 17 18 19 20 21 22 23 24 25 26 27 28 29 30 31 32 33 \n",
      "20 24  3  4 10 34  7 29 13  2 11 23  9 26 32 12  1 14 19  8  6 22 17 15 30 28 27 31  5 16 25 18  9 33 \n",
      "\n",
      " 0  1  2  3  4  5  6  7  8  9 10 11 12 13 14 15 16 17 18 19 20 21 22 23 24 25 26 27 28 29 30 31 32 33 \n",
      " 8 24  3  4 10 34  7 29 13  2 11 23  9 26 32 12  1 14 19 20  6 22 17 15 30 28 27 31  5 16 25 18  9 33 \n",
      "\n",
      " 0  1  2  3  4  5  6  7  8  9 10 11 12 13 14 15 16 17 18 19 20 21 22 23 24 25 26 27 28 29 30 31 32 33 \n",
      "29 24  3  4 10 34  7  8 13  2 11 23  9 26 32 12  1 14 19 20  6 22 17 15 30 28 27 31  5 16 25 18  9 33 \n",
      "\n",
      " 0  1  2  3  4  5  6  7  8  9 10 11 12 13 14 15 16 17 18 19 20 21 22 23 24 25 26 27 28 29 30 31 32 33 \n",
      " 5 24  3  4 10 34  7  8 13  2 11 23  9 26 32 12  1 14 19 20  6 22 17 15 30 28 27 31 29 16 25 18  9 33 \n",
      "\n",
      " 0  1  2  3  4  5  6  7  8  9 10 11 12 13 14 15 16 17 18 19 20 21 22 23 24 25 26 27 28 29 30 31 32 33 \n",
      "10 24  3  4  5 34  7  8 13  2 11 23  9 26 32 12  1 14 19 20  6 22 17 15 30 28 27 31 29 16 25 18  9 33 \n",
      "\n",
      " 0  1  2  3  4  5  6  7  8  9 10 11 12 13 14 15 16 17 18 19 20 21 22 23 24 25 26 27 28 29 30 31 32 33 \n",
      " 2 24  3  4  5 34  7  8 13 10 11 23  9 26 32 12  1 14 19 20  6 22 17 15 30 28 27 31 29 16 25 18  9 33 \n",
      "\n",
      " 0  1  2  3  4  5  6  7  8  9 10 11 12 13 14 15 16 17 18 19 20 21 22 23 24 25 26 27 28 29 30 31 32 33 \n",
      "24  2  3  4  5 34  7  8 13 10 11 23  9 26 32 12  1 14 19 20  6 22 17 15 30 28 27 31 29 16 25 18  9 33 \n",
      "\n",
      " 0  1  2  3  4  5  6  7  8  9 10 11 12 13 14 15 16 17 18 19 20 21 22 23 24 25 26 27 28 29 30 31 32 33 \n",
      "15  2  3  4  5 34  7  8 13 10 11 23  9 26 32 12  1 14 19 20  6 22 17 24 30 28 27 31 29 16 25 18  9 33 \n",
      "\n",
      " 0  1  2  3  4  5  6  7  8  9 10 11 12 13 14 15 16 17 18 19 20 21 22 23 24 25 26 27 28 29 30 31 32 33 \n",
      "32  2  3  4  5 34  7  8 13 10 11 23  9 26 15 12  1 14 19 20  6 22 17 24 30 28 27 31 29 16 25 18  9 33 \n",
      "\n",
      " 0  1  2  3  4  5  6  7  8  9 10 11 12 13 14 15 16 17 18 19 20 21 22 23 24 25 26 27 28 29 30 31 32 33 \n",
      "18  2  3  4  5 34  7  8 13 10 11 23  9 26 15 12  1 14 19 20  6 22 17 24 30 28 27 31 29 16 25 32  9 33 \n",
      "\n",
      " 0  1  2  3  4  5  6  7  8  9 10 11 12 13 14 15 16 17 18 19 20 21 22 23 24 25 26 27 28 29 30 31 32 33 \n",
      "14  2  3  4  5 34  7  8 13 10 11 23  9 26 15 12  1 18 19 20  6 22 17 24 30 28 27 31 29 16 25 32  9 33 \n",
      "\n",
      " 0  1  2  3  4  5  6  7  8  9 10 11 12 13 14 15 16 17 18 19 20 21 22 23 24 25 26 27 28 29 30 31 32 33 \n",
      "26  2  3  4  5 34  7  8 13 10 11 23  9 14 15 12  1 18 19 20  6 22 17 24 30 28 27 31 29 16 25 32  9 33 \n",
      "\n",
      " 0  1  2  3  4  5  6  7  8  9 10 11 12 13 14 15 16 17 18 19 20 21 22 23 24 25 26 27 28 29 30 31 32 33 \n",
      "28  2  3  4  5 34  7  8 13 10 11 23  9 14 15 12  1 18 19 20  6 22 17 24 30 26 27 31 29 16 25 32  9 33 \n",
      "\n",
      " 0  1  2  3  4  5  6  7  8  9 10 11 12 13 14 15 16 17 18 19 20 21 22 23 24 25 26 27 28 29 30 31 32 33 \n",
      "31  2  3  4  5 34  7  8 13 10 11 23  9 14 15 12  1 18 19 20  6 22 17 24 30 26 27 28 29 16 25 32  9 33 \n",
      "\n",
      " 0  1  2  3  4  5  6  7  8  9 10 11 12 13 14 15 16 17 18 19 20 21 22 23 24 25 26 27 28 29 30 31 32 33 \n",
      "25  2  3  4  5 34  7  8 13 10 11 23  9 14 15 12  1 18 19 20  6 22 17 24 30 26 27 28 29 16 31 32  9 33 \n",
      "\n",
      " 0  1  2  3  4  5  6  7  8  9 10 11 12 13 14 15 16 17 18 19 20 21 22 23 24 25 26 27 28 29 30 31 32 33 \n",
      "30  2  3  4  5 34  7  8 13 10 11 23  9 14 15 12  1 18 19 20  6 22 17 24 25 26 27 28 29 16 31 32  9 33 \n",
      "\n",
      " 0  1  2  3  4  5  6  7  8  9 10 11 12 13 14 15 16 17 18 19 20 21 22 23 24 25 26 27 28 29 30 31 32 33 \n",
      "16  2  3  4  5 34  7  8 13 10 11 23  9 14 15 12  1 18 19 20  6 22 17 24 25 26 27 28 29 30 31 32  9 33 \n",
      "\n",
      " 0  1  2  3  4  5  6  7  8  9 10 11 12 13 14 15 16 17 18 19 20 21 22 23 24 25 26 27 28 29 30 31 32 33 \n",
      "12  2  3  4  5 34  7  8 13 10 11 23  9 14 15 16  1 18 19 20  6 22 17 24 25 26 27 28 29 30 31 32  9 33 \n",
      "\n",
      " 0  1  2  3  4  5  6  7  8  9 10 11 12 13 14 15 16 17 18 19 20 21 22 23 24 25 26 27 28 29 30 31 32 33 \n",
      "23  2  3  4  5 34  7  8 13 10 11 12  9 14 15 16  1 18 19 20  6 22 17 24 25 26 27 28 29 30 31 32  9 33 \n",
      "\n",
      " 0  1  2  3  4  5  6  7  8  9 10 11 12 13 14 15 16 17 18 19 20 21 22 23 24 25 26 27 28 29 30 31 32 33 \n",
      "17  2  3  4  5 34  7  8 13 10 11 12  9 14 15 16  1 18 19 20  6 22 23 24 25 26 27 28 29 30 31 32  9 33 \n",
      "\n",
      " 0  1  2  3  4  5  6  7  8  9 10 11 12 13 14 15 16 17 18 19 20 21 22 23 24 25 26 27 28 29 30 31 32 33 \n",
      " 1  2  3  4  5 34  7  8 13 10 11 12  9 14 15 16 17 18 19 20  6 22 23 24 25 26 27 28 29 30 31 32  9 33 \n",
      "\n",
      " 0  1  2  3  4  5  6  7  8  9 10 11 12 13 14 15 16 17 18 19 20 21 22 23 24 25 26 27 28 29 30 31 32 33 \n",
      " 1  2  3  4  5 33  7  8 13 10 11 12  9 14 15 16 17 18 19 20  6 22 23 24 25 26 27 28 29 30 31 32  9 34 \n",
      "\n",
      " 0  1  2  3  4  5  6  7  8  9 10 11 12 13 14 15 16 17 18 19 20 21 22 23 24 25 26 27 28 29 30 31 32 33 \n",
      " 1  2  3  4  5  9  7  8 13 10 11 12  9 14 15 16 17 18 19 20  6 22 23 24 25 26 27 28 29 30 31 32 33 34 \n",
      "\n",
      " 0  1  2  3  4  5  6  7  8  9 10 11 12 13 14 15 16 17 18 19 20 21 22 23 24 25 26 27 28 29 30 31 32 33 \n",
      " 1  2  3  4  5 13  7  8  9 10 11 12  9 14 15 16 17 18 19 20  6 22 23 24 25 26 27 28 29 30 31 32 33 34 \n",
      "\n",
      " 0  1  2  3  4  5  6  7  8  9 10 11 12 13 14 15 16 17 18 19 20 21 22 23 24 25 26 27 28 29 30 31 32 33 \n",
      " 1  2  3  4  5  9  7  8  9 10 11 12 13 14 15 16 17 18 19 20  6 22 23 24 25 26 27 28 29 30 31 32 33 34 \n",
      "\n",
      " 0  1  2  3  4  5  6  7  8  9 10 11 12 13 14 15 16 17 18 19 20 21 22 23 24 25 26 27 28 29 30 31 32 33 \n",
      " 1  2  3  4  5  6  7  8  9 10 11 12 13 14 15 16 17 18 19 20  9 22 23 24 25 26 27 28 29 30 31 32 33 34 \n",
      "\n",
      "[9, 21]\n"
     ]
    }
   ],
   "source": [
    "s = '3 24 22 7 10 34 27 29 13 2 11 23 9 26 32 12 1 14 4 8 6 19 17 15 30 28 20 31 5 16 25 18 9 33'\n",
    "arr = list(map(int, s.split()))\n",
    "n = len(s.split())\n",
    "print(findTwoElement(arr, n))"
   ]
  },
  {
   "cell_type": "code",
   "execution_count": 4,
   "metadata": {},
   "outputs": [],
   "source": [
    "from collections import Counter\n",
    "s = '13 33 43 16 25 19 23 31 29 35 10 2 32 11 47 15 34 46 30 26 41 18 5 17 37 39 6 4 20 27 9 3 8 40 24 44 14 36 7 38 12 1 42 12 28 22 45'\n",
    "s.split()\n",
    "a = Counter(s.split())"
   ]
  },
  {
   "cell_type": "code",
   "execution_count": 2,
   "metadata": {},
   "outputs": [],
   "source": [
    "def find_lte_el(arr, n, x):\n",
    "    l = 0\n",
    "    h = n-1\n",
    "    while l <= h:\n",
    "        mid = (l+h)//2\n",
    "        if x > arr[mid]:\n",
    "            l = mid + 1\n",
    "        else:\n",
    "            if mid==0 or arr[mid]==x or \\\n",
    "                x > arr[mid-1] :\n",
    "                return mid\n",
    "            h = mid\n",
    "    return -1\n"
   ]
  },
  {
   "cell_type": "code",
   "execution_count": 9,
   "metadata": {},
   "outputs": [
    {
     "output_type": "stream",
     "name": "stdout",
     "text": [
      "-1\n"
     ]
    }
   ],
   "source": [
    " arr = [1, 6, 9, 14, 15, 18]\n",
    " print(find_lte_el(arr, len(arr), 19))"
   ]
  },
  {
   "cell_type": "code",
   "execution_count": 98,
   "metadata": {},
   "outputs": [],
   "source": [
    "def calculatePossibilities(grid, r, c):\n",
    "    start_row = 3 * (r//3)\n",
    "    start_col = 3 * (c//3)\n",
    "    subgrid_possib, cur_row_possib, cur_col_possib = 0, 0, 0\n",
    "    for i in range(start_row, start_row+3):\n",
    "        for j in range(start_col, start_col+3):\n",
    "            if grid[i][j] != 0:\n",
    "                subgrid_possib = subgrid_possib | (1 << (grid[i][j]-1))\n",
    "    for i in range(9):\n",
    "        if grid[r][i] > 0:\n",
    "            cur_row_possib = cur_row_possib | (1 << (grid[r][i]-1))\n",
    "        if grid[i][c] > 0:\n",
    "            cur_col_possib = cur_col_possib | (1 << (grid[i][c]-1))\n",
    "    return (~subgrid_possib&(2**9-1)) & (~cur_row_possib&(2**9-1)) & (~cur_col_possib&(2**9-1))"
   ]
  },
  {
   "cell_type": "code",
   "execution_count": 161,
   "metadata": {},
   "outputs": [],
   "source": [
    "grid=[[3,0,6,5,0,8,4,0,0],\n",
    "[5,2,0,0,0,0,0,0,0],\n",
    "[0,8,7,0,0,0,0,3,1],\n",
    "[0,0,3,0,1,0,0,8,0],\n",
    "[9,0,0,8,6,3,0,0,5],\n",
    "[0,5,0,0,9,0,6,0,0],\n",
    "[1,3,0,0,0,0,2,5,0],\n",
    "[0,0,0,0,0,0,0,7,4],\n",
    "[0,0,5,2,0,6,3,0,0]]\n",
    "# grid=[[3,1,6,5,7,8,0,9,2], # 4\n",
    "# [5,2,9,1,3,4,0,6,0], # 7 8\n",
    "# [4,8,7,6,2,9,5,3,1],\n",
    "# [2,6,3,4,1,5,9,8,7],\n",
    "# [9,7,4,8,6,3,1,2,5],\n",
    "# [8,5,1,7,9,2,6,4,3],\n",
    "# [1,3,8,9,4,7,0,5,6], # 2 6\n",
    "# [6,9,2,3,5,1,8,7,4],\n",
    "# [7,4,5,2,8,6,3,1,9]]\n"
   ]
  },
  {
   "cell_type": "code",
   "execution_count": 162,
   "metadata": {},
   "outputs": [
    {
     "output_type": "stream",
     "name": "stdout",
     "text": [
      "0b110000000\n8\n9\n"
     ]
    }
   ],
   "source": [
    "possib = calculatePossibilities(grid, 6, 6)\n",
    "print(bin(possib))\n",
    "cur_possib = 1\n",
    "while possib > 0:\n",
    "    if possib%2!=0:\n",
    "        print(cur_possib)\n",
    "    possib = possib >> 1\n",
    "    cur_possib += 1"
   ]
  },
  {
   "cell_type": "code",
   "execution_count": 163,
   "metadata": {
    "tags": []
   },
   "outputs": [
    {
     "output_type": "stream",
     "name": "stdout",
     "text": [
      "49\nTrue\n3 1 6 5 7 8 4 9 2 \n5 2 9 1 3 4 7 6 8 \n4 8 7 6 2 9 5 3 1 \n2 6 3 4 1 5 9 8 7 \n9 7 4 8 6 3 1 2 5 \n8 5 1 7 9 2 6 4 3 \n1 3 8 9 4 7 2 5 6 \n6 9 2 3 5 1 8 7 4 \n7 4 5 2 8 6 3 1 9 \n"
     ]
    }
   ],
   "source": [
    "def calculatePossibilities(grid, r, c):\n",
    "    start_row = 3 * (r//3)\n",
    "    start_col = 3 * (c//3)\n",
    "    subgrid_possib, cur_row_possib, cur_col_possib = 0, 0, 0\n",
    "    for i in range(start_row, start_row+3):\n",
    "        for j in range(start_col, start_col+3):\n",
    "            if grid[i][j] != 0:\n",
    "                subgrid_possib = subgrid_possib | (1 << (grid[i][j]-1))\n",
    "    for i in range(9):\n",
    "        if grid[r][i] > 0:\n",
    "            cur_row_possib = cur_row_possib | (1 << (grid[r][i]-1))\n",
    "        if grid[i][c] > 0:\n",
    "            cur_col_possib = cur_col_possib | (1 << (grid[i][c]-1))\n",
    "    return (~subgrid_possib&(2**9-1)) & (~cur_row_possib&(2**9-1)) & \\\n",
    "    (~cur_col_possib&(2**9-1))\n",
    "    \n",
    "    \n",
    "def solveUtil(grid, idx, empty):\n",
    "    # print(i, j)\n",
    "    j = idx % 9\n",
    "    i = idx//9\n",
    "    if idx==81:\n",
    "        return False\n",
    "    if grid[i][j] != 0:\n",
    "        if solveUtil(grid, idx + 1, empty):\n",
    "            return True\n",
    "    else:\n",
    "        possib = calculatePossibilities(grid, i, j)\n",
    "        cur_possib = 1\n",
    "        while possib > 0:\n",
    "            if possib%2!=0:\n",
    "                # print(i, j, cur_possib)\n",
    "                grid[i][j] = cur_possib\n",
    "                if empty == 1:\n",
    "                    # print('yahoo')\n",
    "                    return True\n",
    "                if solveUtil(grid, idx + 1, empty-1):\n",
    "                    return True\n",
    "                grid[i][j] = 0\n",
    "            possib = possib >> 1\n",
    "            cur_possib += 1\n",
    "    return False\n",
    "        \n",
    "def solve_sudoku(grid):\n",
    "    empty = 0\n",
    "    for i in range(9):\n",
    "        for j in range(9):\n",
    "            empty += 1 if grid[i][j]==0 else 0\n",
    "    print(empty)\n",
    "    if empty == 0:\n",
    "        return True\n",
    "    return solveUtil(grid, 0, empty)\n",
    "    \n",
    "def print_grid(arr):\n",
    "    \n",
    "    # Your code here\n",
    "    for i in range(9):\n",
    "        for j in range(9):\n",
    "            print(arr[i][j], end=' ')\n",
    "        print()\n",
    "\n",
    "print(solve_sudoku(grid))\n",
    "print_grid(grid)"
   ]
  },
  {
   "cell_type": "code",
   "execution_count": null,
   "metadata": {},
   "outputs": [],
   "source": []
  },
  {
   "cell_type": "code",
   "execution_count": null,
   "metadata": {},
   "outputs": [],
   "source": []
  }
 ]
}