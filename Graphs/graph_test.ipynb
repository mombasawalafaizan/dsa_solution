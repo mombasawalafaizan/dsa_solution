{
 "metadata": {
  "language_info": {
   "codemirror_mode": {
    "name": "ipython",
    "version": 3
   },
   "file_extension": ".py",
   "mimetype": "text/x-python",
   "name": "python",
   "nbconvert_exporter": "python",
   "pygments_lexer": "ipython3",
   "version": "3.8.5-final"
  },
  "orig_nbformat": 2,
  "kernelspec": {
   "name": "python38432bitd59ef553f3fe4c1e9686635296ebb405",
   "display_name": "Python 3.8.4 32-bit",
   "language": "python"
  }
 },
 "nbformat": 4,
 "nbformat_minor": 2,
 "cells": [
  {
   "cell_type": "code",
   "execution_count": 1,
   "metadata": {},
   "outputs": [
    {
     "output_type": "stream",
     "name": "stdout",
     "text": [
      "2 93 12 \n"
     ]
    }
   ],
   "source": [
    "from queue import Queue\n",
    "q = Queue()\n",
    "q.put(2)\n",
    "q.put(93)\n",
    "q.put(12)\n",
    "while not q.empty():\n",
    "    print(q.get(), end=' ')\n",
    "print()"
   ]
  },
  {
   "cell_type": "code",
   "execution_count": 1,
   "metadata": {},
   "outputs": [],
   "source": [
    "graph = [[0,5,float('inf'),10], \n",
    "\t\t\t[float('inf'),0,3,float('inf')], \n",
    "\t\t\t[float('inf'), float('inf'), 0, 1], \n",
    "\t\t\t[float('inf'), float('inf'), float('inf'), 0] \n",
    "\t\t]"
   ]
  },
  {
   "cell_type": "code",
   "execution_count": 22,
   "metadata": {},
   "outputs": [],
   "source": [
    "dist = map(lambda i : map(lambda j : j , i) , graph)"
   ]
  },
  {
   "cell_type": "code",
   "execution_count": 17,
   "metadata": {},
   "outputs": [
    {
     "output_type": "stream",
     "name": "stdout",
     "text": [
      "[<map object at 0x06A0B508>, <map object at 0x06A0BA48>, <map object at 0x06A0BFE8>, <map object at 0x06AB2418>]\n"
     ]
    }
   ],
   "source": [
    "print(list(dist))\n"
   ]
  },
  {
   "cell_type": "code",
   "execution_count": 23,
   "metadata": {},
   "outputs": [
    {
     "output_type": "stream",
     "name": "stdout",
     "text": [
      "[0, 5, inf, 10]\n[inf, 0, 3, inf]\n[inf, inf, 0, 1]\n[inf, inf, inf, 0]\n"
     ]
    }
   ],
   "source": [
    "for i in list(dist):\n",
    "    print(list(i))"
   ]
  },
  {
   "cell_type": "code",
   "execution_count": 30,
   "metadata": {},
   "outputs": [],
   "source": [
    "n = 4\n",
    "pos = dict()\n",
    "k = 1\n",
    "alternate = False"
   ]
  },
  {
   "cell_type": "code",
   "execution_count": 31,
   "metadata": {},
   "outputs": [],
   "source": [
    "for i in range(n-1, -1, -1):\n",
    "        if alternate:\n",
    "            for j in range(n-1, -1, -1):\n",
    "                pos[k] = (i, j)\n",
    "                k += 1\n",
    "            alternate = False\n",
    "        else:\n",
    "            for j in range(n):\n",
    "                pos[k] = (i, j)\n",
    "                k += 1\n",
    "            alternate = True"
   ]
  },
  {
   "cell_type": "code",
   "execution_count": 32,
   "metadata": {},
   "outputs": [
    {
     "output_type": "stream",
     "name": "stdout",
     "text": [
      "(3, 0)\n(3, 1)\n(3, 2)\n(3, 3)\n(2, 3)\n(2, 2)\n(2, 1)\n(2, 0)\n(1, 0)\n(1, 1)\n(1, 2)\n(1, 3)\n(0, 3)\n(0, 2)\n(0, 1)\n(0, 0)\n"
     ]
    }
   ],
   "source": [
    "for i in sorted(pos.keys()):\n",
    "    print(pos[i])"
   ]
  },
  {
   "cell_type": "code",
   "execution_count": 40,
   "metadata": {},
   "outputs": [],
   "source": [
    "from collections import deque\n",
    "a= collections.deque()\n",
    "a.append([(1, 2), 4])"
   ]
  },
  {
   "cell_type": "code",
   "execution_count": 43,
   "metadata": {},
   "outputs": [],
   "source": [
    "def snakesAndLadders(board) -> int:\n",
    "    pos = dict()\n",
    "    n = len(board)\n",
    "    k = 1\n",
    "    alternate = False\n",
    "    for i in range(n-1, -1, -1):\n",
    "        if alternate:\n",
    "            for j in range(n-1, -1, -1):\n",
    "                pos[k] = (i, j)\n",
    "                k += 1\n",
    "            alternate = False\n",
    "        else:\n",
    "            for j in range(n):\n",
    "                pos[k] = (i, j)\n",
    "                k += 1\n",
    "            alternate = True\n",
    "    start = 1\n",
    "    q = deque()\n",
    "    q.append([start, 0])\n",
    "    while q:\n",
    "        x, last_move = q.popleft()\n",
    "        print(x, last_move)\n",
    "        if x >= n**2:\n",
    "            return last_move\n",
    "        last_normal = 0\n",
    "        for i in range(1, 7):\n",
    "            if x+i >= n**2:\n",
    "                return last_move + 1\n",
    "            elif board[pos[x+i][0]][pos[x+i][1]] != -1:\n",
    "                q.append([board[pos[x+i][0]][pos[x+i][1]],\n",
    "                            last_move+1])\n",
    "            else:\n",
    "                last_normal = i\n",
    "            q.append([x+last_normal, last_move+1])\n",
    "    return 0"
   ]
  },
  {
   "cell_type": "code",
   "execution_count": 44,
   "metadata": {},
   "outputs": [
    {
     "output_type": "stream",
     "name": "stdout",
     "text": [
      "1 0\n8 1\n2\n"
     ]
    }
   ],
   "source": [
    "board = [[-1,-1,-1],[-1,9,8],[-1,8,9]]\n",
    "print(snakesAndLadders(board))"
   ]
  },
  {
   "cell_type": "code",
   "execution_count": 47,
   "metadata": {},
   "outputs": [
    {
     "output_type": "execute_result",
     "data": {
      "text/plain": [
       "(7, 1)"
      ]
     },
     "metadata": {},
     "execution_count": 47
    }
   ],
   "source": [
    "divmod(43 ,6)"
   ]
  },
  {
   "cell_type": "code",
   "execution_count": null,
   "metadata": {},
   "outputs": [],
   "source": []
  }
 ]
}