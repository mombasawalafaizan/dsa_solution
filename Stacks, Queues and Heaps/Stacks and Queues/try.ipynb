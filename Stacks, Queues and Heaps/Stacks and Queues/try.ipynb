{
 "metadata": {
  "language_info": {
   "codemirror_mode": {
    "name": "ipython",
    "version": 3
   },
   "file_extension": ".py",
   "mimetype": "text/x-python",
   "name": "python",
   "nbconvert_exporter": "python",
   "pygments_lexer": "ipython3",
   "version": "3.8.5-final"
  },
  "orig_nbformat": 2,
  "kernelspec": {
   "name": "python38432bitd59ef553f3fe4c1e9686635296ebb405",
   "display_name": "Python 3.8.4 32-bit"
  }
 },
 "nbformat": 4,
 "nbformat_minor": 2,
 "cells": [
  {
   "cell_type": "code",
   "execution_count": 8,
   "metadata": {},
   "outputs": [],
   "source": [
    "from collections import OrderedDict"
   ]
  },
  {
   "cell_type": "code",
   "execution_count": 11,
   "metadata": {},
   "outputs": [
    {
     "output_type": "stream",
     "name": "stdout",
     "text": [
      "hello\n"
     ]
    }
   ],
   "source": [
    "print('hello')"
   ]
  },
  {
   "cell_type": "code",
   "execution_count": 12,
   "metadata": {},
   "outputs": [
    {
     "output_type": "stream",
     "name": "stdout",
     "text": [
      "[[2, 1, 0, 2, 1], [1, 0, 1, 2, 1], [1, 0, 0, 2, 1]]\n"
     ]
    }
   ],
   "source": [
    "t = int(input())\n",
    "for _ in range(t):\n",
    "    r, c = map(int, input().split())\n",
    "    arr = list(map(int, input().split()))\n",
    "    grid = []\n",
    "    for i in range(0, r*c, c):\n",
    "        grid.append(arr[i:i+c])\n",
    "    print(grid)"
   ]
  },
  {
   "cell_type": "code",
   "execution_count": 10,
   "metadata": {},
   "outputs": [
    {
     "output_type": "stream",
     "name": "stdout",
     "text": [
      "a\n0\n"
     ]
    },
    {
     "output_type": "error",
     "ename": "IndexError",
     "evalue": "deque index out of range",
     "traceback": [
      "\u001b[1;31m---------------------------------------------------------------------------\u001b[0m",
      "\u001b[1;31mIndexError\u001b[0m                                Traceback (most recent call last)",
      "\u001b[1;32m<ipython-input-10-51121c39a27b>\u001b[0m in \u001b[0;36m<module>\u001b[1;34m\u001b[0m\n\u001b[0;32m      6\u001b[0m \u001b[0mprint\u001b[0m\u001b[1;33m(\u001b[0m\u001b[0mq\u001b[0m\u001b[1;33m.\u001b[0m\u001b[0mget\u001b[0m\u001b[1;33m(\u001b[0m\u001b[1;33m)\u001b[0m\u001b[1;33m)\u001b[0m\u001b[1;33m\u001b[0m\u001b[1;33m\u001b[0m\u001b[0m\n\u001b[0;32m      7\u001b[0m \u001b[0mprint\u001b[0m\u001b[1;33m(\u001b[0m\u001b[0mq\u001b[0m\u001b[1;33m.\u001b[0m\u001b[0mqsize\u001b[0m\u001b[1;33m(\u001b[0m\u001b[1;33m)\u001b[0m\u001b[1;33m)\u001b[0m\u001b[1;33m\u001b[0m\u001b[1;33m\u001b[0m\u001b[0m\n\u001b[1;32m----> 8\u001b[1;33m \u001b[0mprint\u001b[0m\u001b[1;33m(\u001b[0m\u001b[0mq\u001b[0m\u001b[1;33m.\u001b[0m\u001b[0mqueue\u001b[0m\u001b[1;33m[\u001b[0m\u001b[1;36m0\u001b[0m\u001b[1;33m]\u001b[0m\u001b[1;33m)\u001b[0m\u001b[1;33m\u001b[0m\u001b[1;33m\u001b[0m\u001b[0m\n\u001b[0m",
      "\u001b[1;31mIndexError\u001b[0m: deque index out of range"
     ]
    }
   ],
   "source": [
    "from queue import Queue\n",
    "q = Queue()\n",
    "q.put('a')\n",
    "# q.put('b')\n",
    "# q.put('c')\n",
    "print(q.get())\n",
    "print(q.qsize())\n",
    "print(q.queue[0])"
   ]
  },
  {
   "cell_type": "code",
   "execution_count": 3,
   "metadata": {},
   "outputs": [
    {
     "output_type": "display_data",
     "data": {
      "text/plain": "    Roll_no    Name       Place  Gender  marks_PDS  marks_CC\n1         1   Hiren   Citylight    Male         35        78\n2         2     Jay  Athwalines    Male         52        72\n3         3  Hitesh      Adajan    Male         82        36\n4         4   Kevin      Rander    Male         67        71\n5         5    Jaya      Piplod  Female         96        87\n6         6  Kamini   Citylight  Female         85        72\n7         7    Lata  Athwalines  Female         56        72\n8         8   Aisha      Adajan  Female         67        84\n9         9  Ashwin      Rander    Male         81        85\n10       10   Billu      Piplod    Male         53        89",
      "text/html": "<div>\n<style scoped>\n    .dataframe tbody tr th:only-of-type {\n        vertical-align: middle;\n    }\n\n    .dataframe tbody tr th {\n        vertical-align: top;\n    }\n\n    .dataframe thead th {\n        text-align: right;\n    }\n</style>\n<table border=\"1\" class=\"dataframe\">\n  <thead>\n    <tr style=\"text-align: right;\">\n      <th></th>\n      <th>Roll_no</th>\n      <th>Name</th>\n      <th>Place</th>\n      <th>Gender</th>\n      <th>marks_PDS</th>\n      <th>marks_CC</th>\n    </tr>\n  </thead>\n  <tbody>\n    <tr>\n      <th>1</th>\n      <td>1</td>\n      <td>Hiren</td>\n      <td>Citylight</td>\n      <td>Male</td>\n      <td>35</td>\n      <td>78</td>\n    </tr>\n    <tr>\n      <th>2</th>\n      <td>2</td>\n      <td>Jay</td>\n      <td>Athwalines</td>\n      <td>Male</td>\n      <td>52</td>\n      <td>72</td>\n    </tr>\n    <tr>\n      <th>3</th>\n      <td>3</td>\n      <td>Hitesh</td>\n      <td>Adajan</td>\n      <td>Male</td>\n      <td>82</td>\n      <td>36</td>\n    </tr>\n    <tr>\n      <th>4</th>\n      <td>4</td>\n      <td>Kevin</td>\n      <td>Rander</td>\n      <td>Male</td>\n      <td>67</td>\n      <td>71</td>\n    </tr>\n    <tr>\n      <th>5</th>\n      <td>5</td>\n      <td>Jaya</td>\n      <td>Piplod</td>\n      <td>Female</td>\n      <td>96</td>\n      <td>87</td>\n    </tr>\n    <tr>\n      <th>6</th>\n      <td>6</td>\n      <td>Kamini</td>\n      <td>Citylight</td>\n      <td>Female</td>\n      <td>85</td>\n      <td>72</td>\n    </tr>\n    <tr>\n      <th>7</th>\n      <td>7</td>\n      <td>Lata</td>\n      <td>Athwalines</td>\n      <td>Female</td>\n      <td>56</td>\n      <td>72</td>\n    </tr>\n    <tr>\n      <th>8</th>\n      <td>8</td>\n      <td>Aisha</td>\n      <td>Adajan</td>\n      <td>Female</td>\n      <td>67</td>\n      <td>84</td>\n    </tr>\n    <tr>\n      <th>9</th>\n      <td>9</td>\n      <td>Ashwin</td>\n      <td>Rander</td>\n      <td>Male</td>\n      <td>81</td>\n      <td>85</td>\n    </tr>\n    <tr>\n      <th>10</th>\n      <td>10</td>\n      <td>Billu</td>\n      <td>Piplod</td>\n      <td>Male</td>\n      <td>53</td>\n      <td>89</td>\n    </tr>\n  </tbody>\n</table>\n</div>"
     },
     "metadata": {}
    },
    {
     "output_type": "stream",
     "name": "stdout",
     "text": [
      "\n"
     ]
    },
    {
     "output_type": "display_data",
     "data": {
      "text/plain": "         Roll_no   Name   Place  Gender  marks_PDS   marks_CC\nmean     5.50000    NaN     NaN     NaN  67.400000  74.600000\nmedian   5.50000    NaN     NaN     NaN  67.000000  75.000000\nmin      1.00000  Aisha  Adajan  Female  35.000000  36.000000\nmax     10.00000   Lata  Rander    Male  96.000000  89.000000\nstd      3.02765    NaN     NaN     NaN  18.709475  15.247586",
      "text/html": "<div>\n<style scoped>\n    .dataframe tbody tr th:only-of-type {\n        vertical-align: middle;\n    }\n\n    .dataframe tbody tr th {\n        vertical-align: top;\n    }\n\n    .dataframe thead th {\n        text-align: right;\n    }\n</style>\n<table border=\"1\" class=\"dataframe\">\n  <thead>\n    <tr style=\"text-align: right;\">\n      <th></th>\n      <th>Roll_no</th>\n      <th>Name</th>\n      <th>Place</th>\n      <th>Gender</th>\n      <th>marks_PDS</th>\n      <th>marks_CC</th>\n    </tr>\n  </thead>\n  <tbody>\n    <tr>\n      <th>mean</th>\n      <td>5.50000</td>\n      <td>NaN</td>\n      <td>NaN</td>\n      <td>NaN</td>\n      <td>67.400000</td>\n      <td>74.600000</td>\n    </tr>\n    <tr>\n      <th>median</th>\n      <td>5.50000</td>\n      <td>NaN</td>\n      <td>NaN</td>\n      <td>NaN</td>\n      <td>67.000000</td>\n      <td>75.000000</td>\n    </tr>\n    <tr>\n      <th>min</th>\n      <td>1.00000</td>\n      <td>Aisha</td>\n      <td>Adajan</td>\n      <td>Female</td>\n      <td>35.000000</td>\n      <td>36.000000</td>\n    </tr>\n    <tr>\n      <th>max</th>\n      <td>10.00000</td>\n      <td>Lata</td>\n      <td>Rander</td>\n      <td>Male</td>\n      <td>96.000000</td>\n      <td>89.000000</td>\n    </tr>\n    <tr>\n      <th>std</th>\n      <td>3.02765</td>\n      <td>NaN</td>\n      <td>NaN</td>\n      <td>NaN</td>\n      <td>18.709475</td>\n      <td>15.247586</td>\n    </tr>\n  </tbody>\n</table>\n</div>"
     },
     "metadata": {}
    },
    {
     "output_type": "stream",
     "name": "stdout",
     "text": [
      "\nCorrelation:\n"
     ]
    },
    {
     "output_type": "display_data",
     "data": {
      "text/plain": "            Roll_no  marks_PDS  marks_CC\nRoll_no    1.000000   0.241266  0.503034\nmarks_PDS  0.241266   1.000000 -0.141540\nmarks_CC   0.503034  -0.141540  1.000000",
      "text/html": "<div>\n<style scoped>\n    .dataframe tbody tr th:only-of-type {\n        vertical-align: middle;\n    }\n\n    .dataframe tbody tr th {\n        vertical-align: top;\n    }\n\n    .dataframe thead th {\n        text-align: right;\n    }\n</style>\n<table border=\"1\" class=\"dataframe\">\n  <thead>\n    <tr style=\"text-align: right;\">\n      <th></th>\n      <th>Roll_no</th>\n      <th>marks_PDS</th>\n      <th>marks_CC</th>\n    </tr>\n  </thead>\n  <tbody>\n    <tr>\n      <th>Roll_no</th>\n      <td>1.000000</td>\n      <td>0.241266</td>\n      <td>0.503034</td>\n    </tr>\n    <tr>\n      <th>marks_PDS</th>\n      <td>0.241266</td>\n      <td>1.000000</td>\n      <td>-0.141540</td>\n    </tr>\n    <tr>\n      <th>marks_CC</th>\n      <td>0.503034</td>\n      <td>-0.141540</td>\n      <td>1.000000</td>\n    </tr>\n  </tbody>\n</table>\n</div>"
     },
     "metadata": {}
    }
   ],
   "source": [
    "import numpy as np\n",
    "import pandas as pd\n",
    "roll_no = np.arange(1, 11)\n",
    "names = ['Hiren', 'Jay', 'Hitesh', 'Kevin', 'Jaya', 'Kamini', 'Lata', 'Aisha', 'Ashwin', 'Billu']\n",
    "places = ['Citylight', 'Athwalines', 'Adajan', 'Rander', 'Piplod', 'Citylight', 'Athwalines', 'Adajan', 'Rander',\n",
    "          'Piplod']\n",
    "df = pd.DataFrame({'Roll_no': roll_no, 'Name': names, 'Place': places})\n",
    "gender ={'Hiren': 'Male', 'Jay': 'Male', 'Jaya': 'Female', 'Hitesh': 'Male', 'Kevin': 'Male', 'Kamini': 'Female',\n",
    " 'Lata': 'Female', 'Aisha': 'Female',\n",
    " 'Ashwin': 'Male', 'Billu': 'Male'}\n",
    "df['Gender'] = df['Name'].map(gender)\n",
    "df['marks_PDS'] = pd.Series(np.random.randint(30, 101, 10))\n",
    "df['marks_CC'] = pd.Series(np.random.randint(30, 101, 10))\n",
    "df = df.set_index(roll_no)\n",
    "display(df)\n",
    "print()\n",
    "display(df.agg(['mean', 'median', 'min', 'max', 'std']))\n",
    "print()\n",
    "print(\"Correlation:\")\n",
    "display(df.corr())"
   ]
  },
  {
   "cell_type": "code",
   "execution_count": 6,
   "metadata": {},
   "outputs": [
    {
     "output_type": "display_data",
     "data": {
      "text/plain": "            Roll_no  Name  Gender  marks_PDS  marks_CC\nPlace                                                 \nAdajan            2     2       2          2         2\nAthwalines        2     2       2          2         2\nCitylight         2     2       2          2         2\nPi plod           1     1       1          1         1\nPiplod            1     1       1          1         1\nRander            2     2       2          2         2",
      "text/html": "<div>\n<style scoped>\n    .dataframe tbody tr th:only-of-type {\n        vertical-align: middle;\n    }\n\n    .dataframe tbody tr th {\n        vertical-align: top;\n    }\n\n    .dataframe thead th {\n        text-align: right;\n    }\n</style>\n<table border=\"1\" class=\"dataframe\">\n  <thead>\n    <tr style=\"text-align: right;\">\n      <th></th>\n      <th>Roll_no</th>\n      <th>Name</th>\n      <th>Gender</th>\n      <th>marks_PDS</th>\n      <th>marks_CC</th>\n    </tr>\n    <tr>\n      <th>Place</th>\n      <th></th>\n      <th></th>\n      <th></th>\n      <th></th>\n      <th></th>\n    </tr>\n  </thead>\n  <tbody>\n    <tr>\n      <th>Adajan</th>\n      <td>2</td>\n      <td>2</td>\n      <td>2</td>\n      <td>2</td>\n      <td>2</td>\n    </tr>\n    <tr>\n      <th>Athwalines</th>\n      <td>2</td>\n      <td>2</td>\n      <td>2</td>\n      <td>2</td>\n      <td>2</td>\n    </tr>\n    <tr>\n      <th>Citylight</th>\n      <td>2</td>\n      <td>2</td>\n      <td>2</td>\n      <td>2</td>\n      <td>2</td>\n    </tr>\n    <tr>\n      <th>Pi plod</th>\n      <td>1</td>\n      <td>1</td>\n      <td>1</td>\n      <td>1</td>\n      <td>1</td>\n    </tr>\n    <tr>\n      <th>Piplod</th>\n      <td>1</td>\n      <td>1</td>\n      <td>1</td>\n      <td>1</td>\n      <td>1</td>\n    </tr>\n    <tr>\n      <th>Rander</th>\n      <td>2</td>\n      <td>2</td>\n      <td>2</td>\n      <td>2</td>\n      <td>2</td>\n    </tr>\n  </tbody>\n</table>\n</div>"
     },
     "metadata": {}
    },
    {
     "output_type": "display_data",
     "data": {
      "text/plain": "Place       Gender\nAdajan      Female    1\n            Male      1\nAthwalines  Female    1\n            Male      1\nCitylight   Female    1\n            Male      1\nPi plod     Male      1\nPiplod      Female    1\nRander      Male      2\nName: Gender, dtype: int64"
     },
     "metadata": {}
    }
   ],
   "source": [
    "import numpy as np\n",
    "import pandas as pd\n",
    "\n",
    "roll_no = np.arange(1, 11)\n",
    "names = ['Hiren', 'Jay', 'Hitesh', 'Kevin', 'Jaya', 'Kamini', 'Lata', 'Aisha', 'Ashwin', 'Billu']\n",
    "places = ['Citylight', 'Athwalines', 'Adajan', 'Rander', 'Piplod', 'Citylight', 'Athwalines', 'Adajan', 'Rander',\n",
    "          'Pi plod']\n",
    "df = pd.DataFrame({'Roll_no': roll_no, 'Name': names, 'Place': places})\n",
    "gender ={'Hiren': 'Male', 'Jay': 'Male', 'Jaya': 'Female', 'Hitesh': 'Male', 'Kevin': 'Male', 'Kamini': 'Female',\n",
    " 'Lata': 'Female', 'Aisha': 'Female',\n",
    " 'Ashwin': 'Male', 'Billu': 'Male'}\n",
    "\n",
    "\n",
    "df['Gender'] = df['Name'].map(gender)\n",
    "df['marks_PDS'] = pd.Series(np.random.randint(30, 101, 10))\n",
    "df['marks_CC'] = pd.Series(np.random.randint(30, 101, 10))\n",
    "df = df.set_index(roll_no)\n",
    "\n",
    "display(df.groupby('Place').count())\n",
    "display(df.groupby('Place')['Gender'].value_counts())\n"
   ]
  },
  {
   "cell_type": "code",
   "execution_count": 7,
   "metadata": {},
   "outputs": [
    {
     "output_type": "display_data",
     "data": {
      "text/plain": "    Roll_no    Name       Place Gender  marks_PDS  marks_CC\n1         1   Hiren   Citylight   Male         67        34\n2         2     Jay  Athwalines   Male         99        73\n3         3  Hitesh      Adajan   Male         36        97\n4         4   Kevin      Rander   Male         31        32\n9         9  Ashwin      Rander   Male         79        81\n10       10   Billu     Pi plod   Male         83        34",
      "text/html": "<div>\n<style scoped>\n    .dataframe tbody tr th:only-of-type {\n        vertical-align: middle;\n    }\n\n    .dataframe tbody tr th {\n        vertical-align: top;\n    }\n\n    .dataframe thead th {\n        text-align: right;\n    }\n</style>\n<table border=\"1\" class=\"dataframe\">\n  <thead>\n    <tr style=\"text-align: right;\">\n      <th></th>\n      <th>Roll_no</th>\n      <th>Name</th>\n      <th>Place</th>\n      <th>Gender</th>\n      <th>marks_PDS</th>\n      <th>marks_CC</th>\n    </tr>\n  </thead>\n  <tbody>\n    <tr>\n      <th>1</th>\n      <td>1</td>\n      <td>Hiren</td>\n      <td>Citylight</td>\n      <td>Male</td>\n      <td>67</td>\n      <td>34</td>\n    </tr>\n    <tr>\n      <th>2</th>\n      <td>2</td>\n      <td>Jay</td>\n      <td>Athwalines</td>\n      <td>Male</td>\n      <td>99</td>\n      <td>73</td>\n    </tr>\n    <tr>\n      <th>3</th>\n      <td>3</td>\n      <td>Hitesh</td>\n      <td>Adajan</td>\n      <td>Male</td>\n      <td>36</td>\n      <td>97</td>\n    </tr>\n    <tr>\n      <th>4</th>\n      <td>4</td>\n      <td>Kevin</td>\n      <td>Rander</td>\n      <td>Male</td>\n      <td>31</td>\n      <td>32</td>\n    </tr>\n    <tr>\n      <th>9</th>\n      <td>9</td>\n      <td>Ashwin</td>\n      <td>Rander</td>\n      <td>Male</td>\n      <td>79</td>\n      <td>81</td>\n    </tr>\n    <tr>\n      <th>10</th>\n      <td>10</td>\n      <td>Billu</td>\n      <td>Pi plod</td>\n      <td>Male</td>\n      <td>83</td>\n      <td>34</td>\n    </tr>\n  </tbody>\n</table>\n</div>"
     },
     "metadata": {}
    },
    {
     "output_type": "display_data",
     "data": {
      "text/plain": "        sum       mean  median        std\nGender                                   \nFemale  243  60.750000      52  25.578311\nMale    395  65.833333      73  27.102890",
      "text/html": "<div>\n<style scoped>\n    .dataframe tbody tr th:only-of-type {\n        vertical-align: middle;\n    }\n\n    .dataframe tbody tr th {\n        vertical-align: top;\n    }\n\n    .dataframe thead th {\n        text-align: right;\n    }\n</style>\n<table border=\"1\" class=\"dataframe\">\n  <thead>\n    <tr style=\"text-align: right;\">\n      <th></th>\n      <th>sum</th>\n      <th>mean</th>\n      <th>median</th>\n      <th>std</th>\n    </tr>\n    <tr>\n      <th>Gender</th>\n      <th></th>\n      <th></th>\n      <th></th>\n      <th></th>\n    </tr>\n  </thead>\n  <tbody>\n    <tr>\n      <th>Female</th>\n      <td>243</td>\n      <td>60.750000</td>\n      <td>52</td>\n      <td>25.578311</td>\n    </tr>\n    <tr>\n      <th>Male</th>\n      <td>395</td>\n      <td>65.833333</td>\n      <td>73</td>\n      <td>27.102890</td>\n    </tr>\n  </tbody>\n</table>\n</div>"
     },
     "metadata": {}
    },
    {
     "output_type": "display_data",
     "data": {
      "text/plain": "        size\nGender      \nFemale     4\nMale       6",
      "text/html": "<div>\n<style scoped>\n    .dataframe tbody tr th:only-of-type {\n        vertical-align: middle;\n    }\n\n    .dataframe tbody tr th {\n        vertical-align: top;\n    }\n\n    .dataframe thead th {\n        text-align: right;\n    }\n</style>\n<table border=\"1\" class=\"dataframe\">\n  <thead>\n    <tr style=\"text-align: right;\">\n      <th></th>\n      <th>size</th>\n    </tr>\n    <tr>\n      <th>Gender</th>\n      <th></th>\n    </tr>\n  </thead>\n  <tbody>\n    <tr>\n      <th>Female</th>\n      <td>4</td>\n    </tr>\n    <tr>\n      <th>Male</th>\n      <td>6</td>\n    </tr>\n  </tbody>\n</table>\n</div>"
     },
     "metadata": {}
    },
    {
     "output_type": "display_data",
     "data": {
      "text/plain": "    marks_PDS   marks_CC\n1    1.271819  -7.795165\n2   13.990007   7.636888\n3  -11.048926  17.133536\n4  -13.036143  -8.586553\n5   -6.279606   9.219662\n6   -3.100058  -7.003778\n7   13.592564  -4.629616\n8   -9.061709  -8.982246\n9    6.041140  10.802437\n10   7.630913  -7.795165",
      "text/html": "<div>\n<style scoped>\n    .dataframe tbody tr th:only-of-type {\n        vertical-align: middle;\n    }\n\n    .dataframe tbody tr th {\n        vertical-align: top;\n    }\n\n    .dataframe thead th {\n        text-align: right;\n    }\n</style>\n<table border=\"1\" class=\"dataframe\">\n  <thead>\n    <tr style=\"text-align: right;\">\n      <th></th>\n      <th>marks_PDS</th>\n      <th>marks_CC</th>\n    </tr>\n  </thead>\n  <tbody>\n    <tr>\n      <th>1</th>\n      <td>1.271819</td>\n      <td>-7.795165</td>\n    </tr>\n    <tr>\n      <th>2</th>\n      <td>13.990007</td>\n      <td>7.636888</td>\n    </tr>\n    <tr>\n      <th>3</th>\n      <td>-11.048926</td>\n      <td>17.133536</td>\n    </tr>\n    <tr>\n      <th>4</th>\n      <td>-13.036143</td>\n      <td>-8.586553</td>\n    </tr>\n    <tr>\n      <th>5</th>\n      <td>-6.279606</td>\n      <td>9.219662</td>\n    </tr>\n    <tr>\n      <th>6</th>\n      <td>-3.100058</td>\n      <td>-7.003778</td>\n    </tr>\n    <tr>\n      <th>7</th>\n      <td>13.592564</td>\n      <td>-4.629616</td>\n    </tr>\n    <tr>\n      <th>8</th>\n      <td>-9.061709</td>\n      <td>-8.982246</td>\n    </tr>\n    <tr>\n      <th>9</th>\n      <td>6.041140</td>\n      <td>10.802437</td>\n    </tr>\n    <tr>\n      <th>10</th>\n      <td>7.630913</td>\n      <td>-7.795165</td>\n    </tr>\n  </tbody>\n</table>\n</div>"
     },
     "metadata": {}
    }
   ],
   "source": [
    "import numpy as np\n",
    "import pandas as pd\n",
    "\n",
    "roll_no = np.arange(1, 11)\n",
    "names = ['Hiren', 'Jay', 'Hitesh', 'Kevin', 'Jaya', 'Kamini', 'Lata', 'Aisha', 'Ashwin', 'Billu']\n",
    "places = ['Citylight', 'Athwalines', 'Adajan', 'Rander', 'Piplod', 'Citylight', 'Athwalines', 'Adajan', 'Rander',\n",
    "          'Pi plod']\n",
    "df = pd.DataFrame({'Roll_no': roll_no, 'Name': names, 'Place': places})\n",
    "gender ={'Hiren': 'Male', 'Jay': 'Male', 'Jaya': 'Female', 'Hitesh': 'Male', 'Kevin': 'Male', 'Kamini': 'Female',\n",
    " 'Lata': 'Female', 'Aisha': 'Female',\n",
    " 'Ashwin': 'Male', 'Billu': 'Male'}\n",
    "\n",
    "\n",
    "df['Gender'] = df['Name'].map(gender)\n",
    "df['marks_PDS'] = pd.Series(np.random.randint(30, 101, 10))\n",
    "df['marks_CC'] = pd.Series(np.random.randint(30, 101, 10))\n",
    "df = df.set_index(roll_no)\n",
    "display(df.groupby('Gender').get_group('Male'))\n",
    "display(df.groupby('Gender')['marks_PDS'].agg(['sum','mean','median','std']))\n",
    "display(df.groupby('Gender')['marks_PDS'].agg(['size']))\n",
    "df.groupby('Place')['Place'].apply(lambda x:x.count()>2)\n",
    "func =lambda x: (x - x.mean()) / x.std()*10\n",
    "score = df[['marks_PDS','marks_CC']].apply(func)\n",
    "display(score)"
   ]
  },
  {
   "cell_type": "code",
   "execution_count": null,
   "metadata": {},
   "outputs": [],
   "source": []
  }
 ]
}